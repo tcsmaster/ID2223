{
 "cells": [
  {
   "cell_type": "code",
   "execution_count": 1,
   "metadata": {},
   "outputs": [],
   "source": [
    "import pandas as pd\n",
    "import numpy as np\n",
    "from sklearn.preprocessing import OneHotEncoder"
   ]
  },
  {
   "cell_type": "code",
   "execution_count": 16,
   "metadata": {},
   "outputs": [],
   "source": [
    "def transform(df):\n",
    "    df.drop(columns=['preciptype', 'severerisk', 'sunrise', 'sunset', 'moonphase', 'description', 'icon', 'stations'], inplace=True)\n",
    "    df.loc[df[\"windgust\"].isna(),'windgust'] = df['windspeed'] # if indgust is missing, insert windspeed\n",
    "    df.fillna({'snow': 0,'snowdepth':0, 'pressure':np.NaN}, inplace = True)\n",
    "    if \"sealevelpressure\" or \"datetime\" in df.columns:\n",
    "        df.rename(columns={\"sealevelpressure\":\"pressure\", \"datetime\":\"date\"}, inplace=True)\n",
    "    df.drop(columns=['name'], inplace=True)\n",
    "    return df\n",
    "\n",
    "def assemble(path_to_file):\n",
    "    df = pd.read_csv(path_to_file, delimiter=',')\n",
    "    new_df = transform(df)\n",
    "    return new_df"
   ]
  },
  {
   "cell_type": "code",
   "execution_count": 17,
   "metadata": {},
   "outputs": [],
   "source": [
    "final_df = assemble(\"C://Users//Admin//Desktop//github//ID2223//project//vienna_2013_2014.csv\")"
   ]
  },
  {
   "cell_type": "code",
   "execution_count": 18,
   "metadata": {},
   "outputs": [],
   "source": [
    "final_df = pd.concat([final_df,\n",
    "                    assemble(\"C://Users//Admin//Desktop//github//ID2223//project//vienna_2014_2016.csv\"),\n",
    "                    assemble(\"C://Users//Admin//Desktop//github//ID2223//project//vienna_2016_2018.csv\"),\n",
    "                    assemble(\"C://Users//Admin//Desktop//github//ID2223//project//vienna_2018_2020.csv\"),\n",
    "                    assemble(\"C://Users//Admin//Desktop//github//ID2223//project//vienna_2020_2022.csv\"),\n",
    "                    assemble(\"C://Users//Admin//Desktop//github//ID2223//project//vienna_2022_2022.csv\"),\n",
    "                    assemble(\"C://Users//Admin//Desktop//github//ID2223//project//vienna_2022_2023.csv\")])"
   ]
  },
  {
   "cell_type": "code",
   "execution_count": 21,
   "metadata": {},
   "outputs": [],
   "source": [
    "final_df.to_csv(\"C://Users//Admin//Desktop//github//ID2223//project//final_df.csv\")"
   ]
  },
  {
   "cell_type": "code",
   "execution_count": null,
   "metadata": {},
   "outputs": [],
   "source": [
    "import hopsworks\n",
    "import os\n",
    "\n",
    "os.environ['CONDA_DLL_SEARCH_MODIFICATION_ENABLE'] = '1'\n",
    "client= hopsworks.login()\n",
    "stream = client.get_feature_store()\n",
    "\n",
    "weather_dt = stream.get_or_create_feature_group(\n",
    "    name = 'weather_fg',\n",
    "    description = 'Weather characteristics of each day',\n",
    "    version=6,\n",
    "    primary_key=['date'],\n",
    "    online_enabled=True\n",
    ")\n",
    "weather_dt.insert(final_df)"
   ]
  },
  {
   "attachments": {},
   "cell_type": "markdown",
   "metadata": {},
   "source": [
    "## Historical weather data EDA summary\n",
    "\n",
    "- with my current subscription plan, I can only get 1000 days worth of data in every 24 hours\n",
    "- 33 different parameters\n",
    "- I dropped these variables: preciptype, severerisk, sunrise, sunset, moonphase, description, icon, stations.\n",
    "- no missing dates, but lots of missing values consistently in windgust\n",
    "- the way to deal with windgust: if missing, set it to the windspeed\n",
    "- --------||---------- snow and snowdepth: set missing to zero"
   ]
  },
  {
   "attachments": {},
   "cell_type": "markdown",
   "metadata": {},
   "source": [
    "- 2020-2022: 1 nan in pressure\n",
    "- 2014-2016: all snow missing, snowdepth 30 not nan\n",
    "- 2013-2014: all snow missing, snowdepth 6 not nan\n"
   ]
  }
 ],
 "metadata": {
  "kernelspec": {
   "display_name": "id2223",
   "language": "python",
   "name": "python3"
  },
  "language_info": {
   "codemirror_mode": {
    "name": "ipython",
    "version": 3
   },
   "file_extension": ".py",
   "mimetype": "text/x-python",
   "name": "python",
   "nbconvert_exporter": "python",
   "pygments_lexer": "ipython3",
   "version": "3.9.13"
  },
  "orig_nbformat": 4,
  "vscode": {
   "interpreter": {
    "hash": "609a236045795ff642c72f4039a92d143d7f5ca2a946d480b04f775428ec51b9"
   }
  }
 },
 "nbformat": 4,
 "nbformat_minor": 2
}
