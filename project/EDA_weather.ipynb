{
 "cells": [
  {
   "cell_type": "code",
   "execution_count": 1,
   "metadata": {},
   "outputs": [],
   "source": [
    "import pandas as pd"
   ]
  },
  {
   "cell_type": "code",
   "execution_count": 2,
   "metadata": {},
   "outputs": [],
   "source": [
    "def transform(df):\n",
    "    df.mask(df == \"\", inplace=True)\n",
    "    df.drop(columns=['preciptype', 'severerisk', 'sunrise', 'sunset', 'moonphase', 'description', 'icon', 'stations'], inplace=True)\n",
    "    df.loc[df[\"windgust\"].isna(),'windgust'] = df['windspeed'] # if indgust is missing, insert windspeed\n",
    "    df[['snow', 'snowdepth']] = df[['snow', 'snowdepth']].fillna(0)\n",
    "    if \"sealevelpressure\" or \"datetime\" in df.columns:\n",
    "        df.rename(columns={\"sealevelpressure\":\"pressure\", \"datetime\":\"date\"}, inplace=True)\n",
    "    df['pressure'].fillna(df['pressure'].mean(), inplace=True)\n",
    "    return df\n",
    "\n",
    "def assemble(path_to_file):\n",
    "    df = pd.read_csv(path_to_file, delimiter=',')\n",
    "    new_df = transform(df)\n",
    "    return new_df"
   ]
  },
  {
   "cell_type": "code",
   "execution_count": 4,
   "metadata": {},
   "outputs": [],
   "source": [
    "final_df = assemble(\"C://Users//Admin//Desktop//github//ID2223//project//vienna_2013_2014.csv\")"
   ]
  },
  {
   "cell_type": "code",
   "execution_count": 5,
   "metadata": {},
   "outputs": [],
   "source": [
    "final_df = pd.concat([final_df,\n",
    "                    assemble(\"C://Users//Admin//Desktop//github//ID2223//project//vienna_2014_2016.csv\"),\n",
    "                    assemble(\"C://Users//Admin//Desktop//github//ID2223//project//vienna_2016_2018.csv\"),\n",
    "                    assemble(\"C://Users//Admin//Desktop//github//ID2223//project//vienna_2018_2020.csv\"),\n",
    "                    assemble(\"C://Users//Admin//Desktop//github//ID2223//project//vienna_2020_2022.csv\"),\n",
    "                    assemble(\"C://Users//Admin//Desktop//github//ID2223//project//vienna_2022_2022.csv\"),\n",
    "                    assemble(\"C://Users//Admin//Desktop//github//ID2223//project//vienna_2022_2023.csv\")])"
   ]
  },
  {
   "cell_type": "code",
   "execution_count": 8,
   "metadata": {},
   "outputs": [
    {
     "name": "stdout",
     "output_type": "stream",
     "text": [
      "Connected. Call `.close()` to terminate connection gracefully.\n",
      "\n",
      "Logged in to project, explore it here https://c.app.hopsworks.ai:443/p/5267\n"
     ]
    },
    {
     "name": "stderr",
     "output_type": "stream",
     "text": [
      "DeprecationWarning: the imp module is deprecated in favour of importlib; see the module's documentation for alternative uses\n"
     ]
    },
    {
     "name": "stdout",
     "output_type": "stream",
     "text": [
      "Connected. Call `.close()` to terminate connection gracefully.\n",
      "Feature Group created successfully, explore it at \n",
      "https://c.app.hopsworks.ai:443/p/5267/fs/5187/fg/15837\n"
     ]
    },
    {
     "data": {
      "application/vnd.jupyter.widget-view+json": {
       "model_id": "9acbb8e66fce4f9289783f0f0314023c",
       "version_major": 2,
       "version_minor": 0
      },
      "text/plain": [
       "Uploading Dataframe: 0.00% |          | Rows 0/3302 | Elapsed Time: 00:00 | Remaining Time: ?"
      ]
     },
     "metadata": {},
     "output_type": "display_data"
    },
    {
     "name": "stdout",
     "output_type": "stream",
     "text": [
      "Launching offline feature group backfill job...\n",
      "Backfill Job started successfully, you can follow the progress at \n",
      "https://c.app.hopsworks.ai/p/5267/jobs/named/weather_fg_5_offline_fg_backfill/executions\n"
     ]
    },
    {
     "data": {
      "text/plain": [
       "(<hsfs.core.job.Job at 0x299cde57c10>, None)"
      ]
     },
     "execution_count": 8,
     "metadata": {},
     "output_type": "execute_result"
    }
   ],
   "source": [
    "import hopsworks\n",
    "import os\n",
    "\n",
    "os.environ['CONDA_DLL_SEARCH_MODIFICATION_ENABLE'] = '1'\n",
    "client= hopsworks.login()\n",
    "stream = client.get_feature_store()\n",
    "\n",
    "weather_dt = stream.get_or_create_feature_group(\n",
    "    name = 'weather_fg',\n",
    "    description = 'Weather characteristics of each day',\n",
    "    version=5,\n",
    "    primary_key=['date'],\n",
    "    online_enabled=True\n",
    ")\n",
    "weather_dt.insert(final_df)"
   ]
  },
  {
   "attachments": {},
   "cell_type": "markdown",
   "metadata": {},
   "source": [
    "## Historical weather data EDA summary\n",
    "\n",
    "- with my current subscription plan, I can only get 1000 days worth of data in every 24 hours\n",
    "- 33 different parameters\n",
    "- I dropped these variables: preciptype, severerisk, sunrise, sunset, moonphase, description, icon, stations.\n",
    "- no missing dates, but lots of missing values consistently in windgust\n",
    "- the way to deal with windgust: if missing, set it to the windspeed\n",
    "- --------||---------- snow and snowdepth: set missing to zero"
   ]
  },
  {
   "attachments": {},
   "cell_type": "markdown",
   "metadata": {},
   "source": [
    "- 2020-2022: 1 nan in pressure\n",
    "- 2014-2016: all snow missing, snowdepth 30 not nan\n",
    "- 2013-2014: all snow missing, snowdepth 6 not nan\n"
   ]
  }
 ],
 "metadata": {
  "kernelspec": {
   "display_name": "id2223",
   "language": "python",
   "name": "python3"
  },
  "language_info": {
   "codemirror_mode": {
    "name": "ipython",
    "version": 3
   },
   "file_extension": ".py",
   "mimetype": "text/x-python",
   "name": "python",
   "nbconvert_exporter": "python",
   "pygments_lexer": "ipython3",
   "version": "3.9.13 (main, Oct 13 2022, 21:23:06) [MSC v.1916 64 bit (AMD64)]"
  },
  "orig_nbformat": 4,
  "vscode": {
   "interpreter": {
    "hash": "609a236045795ff642c72f4039a92d143d7f5ca2a946d480b04f775428ec51b9"
   }
  }
 },
 "nbformat": 4,
 "nbformat_minor": 2
}
