{
 "cells": [
  {
   "cell_type": "code",
   "execution_count": 1,
   "metadata": {},
   "outputs": [],
   "source": [
    "import pandas as pd\n",
    "import numpy as np"
   ]
  },
  {
   "cell_type": "code",
   "execution_count": 38,
   "metadata": {},
   "outputs": [
    {
     "name": "stdout",
     "output_type": "stream",
     "text": [
      "[0, 1, 1, 3]\n"
     ]
    }
   ],
   "source": [
    "level = [50, 100, 120, 200]\n",
    "air_pollution_level = {1:[50, 'Good', 'Green'], 2:[100, 'Moderate','Yellow'], 3:[150, 'Unhealthy for sensitive Groups','DarkOrange'],4:[200, 'Unhealthy','Red'] ,5:[300, 'Very Unhealthy','Purple'], 6:[1000, 'Hazardous','DarkRed']}\n",
    "ind = [np.max(np.nonzero( el >= np.array([air_pollution_level[key][0] for key in air_pollution_level.keys()]))) for el in level]\n",
    "print(ind)"
   ]
  },
  {
   "cell_type": "code",
   "execution_count": 3,
   "metadata": {},
   "outputs": [
    {
     "ename": "AttributeError",
     "evalue": "module 'pandas' has no attribute 'read_csv'",
     "output_type": "error",
     "traceback": [
      "\u001b[1;31m---------------------------------------------------------------------------\u001b[0m",
      "\u001b[1;31mAttributeError\u001b[0m                            Traceback (most recent call last)",
      "\u001b[1;32mc:\\Users\\Admin\\Desktop\\github\\ID2223\\project\\EDA_aqi.ipynb Cell 2\u001b[0m in \u001b[0;36m1\n\u001b[1;32m----> <a href='vscode-notebook-cell:/c%3A/Users/Admin/Desktop/github/ID2223/project/EDA_aqi.ipynb#W1sZmlsZQ%3D%3D?line=0'>1</a>\u001b[0m df \u001b[39m=\u001b[39m pd\u001b[39m.\u001b[39;49mread_csv(\u001b[39m\"\u001b[39m\u001b[39mC://Users//Admin//Desktop//github//ID2223//project//air_qual_data.csv\u001b[39m\u001b[39m\"\u001b[39m, delimiter\u001b[39m=\u001b[39m\u001b[39m\"\u001b[39m\u001b[39m,\u001b[39m\u001b[39m\"\u001b[39m)\n",
      "\u001b[1;31mAttributeError\u001b[0m: module 'pandas' has no attribute 'read_csv'"
     ]
    }
   ],
   "source": [
    "df = pd.read_csv(\"C://Users//Admin//Desktop//github//ID2223//project//air_qual_data.csv\", delimiter=\",\")"
   ]
  },
  {
   "cell_type": "code",
   "execution_count": 7,
   "metadata": {},
   "outputs": [],
   "source": [
    "df.columns = df.columns.str.replace(\" \", \"\")\n",
    "df.drop(columns=['no2', 'co'], inplace=True)\n",
    "df.replace(\" \", \"\", inplace=True)\n",
    "df['date'] = pd.to_datetime(df['date'])"
   ]
  },
  {
   "cell_type": "code",
   "execution_count": 8,
   "metadata": {},
   "outputs": [],
   "source": [
    "df.mask(df== \"\", inplace=True) # replace empty strings with NaNs\n",
    "\n",
    "df['pm25'] = pd.to_numeric(df['pm25']) # convert strings to numbers\n",
    "df['pm10'] = pd.to_numeric(df['pm10'])\n",
    "\n",
    "pm25_mean = int(df['pm25'].mean(skipna=True)) # column means\n",
    "pm10_mean = int(df['pm10'].mean(skipna=True))\n",
    "\n",
    "df['pm25'].fillna(pm25_mean, inplace=True) # missing value imputation\n",
    "df['pm10'].fillna(pm10_mean, inplace=True)\n",
    "\n",
    "df['pm10'] = df['pm10'].astype(int) # the measurements should be integers\n",
    "df['pm25'] = df['pm25'].astype(int)"
   ]
  },
  {
   "cell_type": "code",
   "execution_count": 9,
   "metadata": {},
   "outputs": [],
   "source": [
    "df['aqi'] = df[['pm25', 'pm10']].max(axis=1) # compute AQI"
   ]
  },
  {
   "cell_type": "code",
   "execution_count": 10,
   "metadata": {},
   "outputs": [
    {
     "data": {
      "text/plain": [
       "363    2014-12-29\n",
       "364    2014-12-30\n",
       "730    2015-12-31\n",
       "731    2016-01-01\n",
       "1345   2017-09-06\n",
       "1346   2017-09-07\n",
       "1347   2017-09-08\n",
       "1348   2017-09-09\n",
       "1747   2018-10-13\n",
       "2190   2019-12-30\n",
       "2281   2020-03-30\n",
       "2594   2021-02-06\n",
       "dtype: datetime64[ns]"
      ]
     },
     "execution_count": 10,
     "metadata": {},
     "output_type": "execute_result"
    }
   ],
   "source": [
    "dates = pd.Series(pd.date_range(start='2013-12-31', end='2022-12-22')) # identify missing days\n",
    "missing_dates = pd.Series(dates[dates.isin(df['date']) == False])\n",
    "missing_dates"
   ]
  },
  {
   "cell_type": "code",
   "execution_count": 11,
   "metadata": {},
   "outputs": [],
   "source": [
    "extra_dates = missing_dates.to_frame(name = \"date\")\n",
    "extra_dates['pm25'] = pm25_mean\n",
    "extra_dates['pm10'] = pm10_mean\n",
    "extra_dates['aqi'] = max(pm25_mean, pm10_mean)"
   ]
  },
  {
   "cell_type": "code",
   "execution_count": 12,
   "metadata": {},
   "outputs": [
    {
     "name": "stdout",
     "output_type": "stream",
     "text": [
      "<class 'pandas._libs.tslibs.timestamps.Timestamp'> <class 'pandas._libs.tslibs.timestamps.Timestamp'>\n"
     ]
    }
   ],
   "source": [
    "df = pd.concat([df, extra_dates])"
   ]
  },
  {
   "cell_type": "code",
   "execution_count": 13,
   "metadata": {},
   "outputs": [],
   "source": [
    "df.sort_values(by=['date'], ignore_index=True, inplace=True)"
   ]
  },
  {
   "cell_type": "code",
   "execution_count": 20,
   "metadata": {},
   "outputs": [],
   "source": [
    "df['date'] = df['date'].apply(lambda x: x.strftime('%Y-%m-%d')) #convert because Hopsworks doesn't accept datetime as key"
   ]
  },
  {
   "cell_type": "code",
   "execution_count": 23,
   "metadata": {},
   "outputs": [
    {
     "name": "stdout",
     "output_type": "stream",
     "text": [
      "Connection closed.\n",
      "Connected. Call `.close()` to terminate connection gracefully.\n",
      "\n",
      "Logged in to project, explore it here https://c.app.hopsworks.ai:443/p/5267\n",
      "Connected. Call `.close()` to terminate connection gracefully.\n",
      "Feature Group created successfully, explore it at \n",
      "https://c.app.hopsworks.ai:443/p/5267/fs/5187/fg/15833\n"
     ]
    },
    {
     "data": {
      "application/vnd.jupyter.widget-view+json": {
       "model_id": "a27c9e4bb40e4bf8ae607f282bf4d18e",
       "version_major": 2,
       "version_minor": 0
      },
      "text/plain": [
       "Uploading Dataframe: 0.00% |          | Rows 0/3302 | Elapsed Time: 00:00 | Remaining Time: ?"
      ]
     },
     "metadata": {},
     "output_type": "display_data"
    },
    {
     "name": "stdout",
     "output_type": "stream",
     "text": [
      "Launching offline feature group backfill job...\n",
      "Backfill Job started successfully, you can follow the progress at \n",
      "https://c.app.hopsworks.ai/p/5267/jobs/named/air_quality_fg_3_offline_fg_backfill/executions\n"
     ]
    },
    {
     "data": {
      "text/plain": [
       "(<hsfs.core.job.Job at 0x12c283f5040>, None)"
      ]
     },
     "execution_count": 23,
     "metadata": {},
     "output_type": "execute_result"
    }
   ],
   "source": [
    "import hopsworks\n",
    "import os\n",
    "\n",
    "os.environ['CONDA_DLL_SEARCH_MODIFICATION_ENABLE'] = '1'\n",
    "client= hopsworks.login()\n",
    "stream = client.get_feature_store()\n",
    "\n",
    "aqi_dt = stream.get_or_create_feature_group(\n",
    "    name = 'air_quality_fg',\n",
    "    description = 'Air quality characteristics of each day',\n",
    "    version=3,\n",
    "    primary_key=['date'],\n",
    "    online_enabled=True\n",
    ")\n",
    "aqi_dt.insert(df)"
   ]
  },
  {
   "attachments": {},
   "cell_type": "markdown",
   "metadata": {},
   "source": [
    "## Historical AQI data EDA summary\n",
    "\n",
    "- only 5 columns: date, pm10, pm2.5, no2, co\n",
    "- records go back as far as 2014\n",
    "- dropped no2 and co columns as we were allowed not to use it\n",
    "- aqi = max(pm10, pm2.5, no2, co) as new column\n",
    "- deleted exta spaces before and after records\n",
    "- replaced missing records with NaNs\n",
    "- original data was string, convert numeric values to integers, dates to datetime\n",
    "- input missing dates with the mean values\n",
    "- sort the records by date"
   ]
  }
 ],
 "metadata": {
  "kernelspec": {
   "display_name": "id2223",
   "language": "python",
   "name": "python3"
  },
  "language_info": {
   "codemirror_mode": {
    "name": "ipython",
    "version": 3
   },
   "file_extension": ".py",
   "mimetype": "text/x-python",
   "name": "python",
   "nbconvert_exporter": "python",
   "pygments_lexer": "ipython3",
   "version": "3.10.9"
  },
  "orig_nbformat": 4,
  "vscode": {
   "interpreter": {
    "hash": "609a236045795ff642c72f4039a92d143d7f5ca2a946d480b04f775428ec51b9"
   }
  }
 },
 "nbformat": 4,
 "nbformat_minor": 2
}
